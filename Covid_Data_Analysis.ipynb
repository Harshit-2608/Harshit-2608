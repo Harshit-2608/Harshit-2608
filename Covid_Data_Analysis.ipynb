{
 "cells": [
  {
   "cell_type": "markdown",
   "source": [
    "#  INTRODUCTION\r\n",
    "\r\n",
    "This is a Coronavirus deaths total Data and i am doing in this case study for the portfolio to showcase data analysis and data visualization in SQL. We will be using the following skills in sql Joins, CTE's, Temp Tables, Windows Functions, Aggregate Functions, Creating Views, Converting Data Types, and then we will tableau to build visualizations.\r\n",
    "\r\n",
    "<br>\r\n",
    "\r\n",
    "Title: **Covid Data Analysis AND Visulizations**\r\n",
    "\r\n",
    "Author: **Harshit Bansal**\r\n",
    "\r\n",
    "Date: 31 August 2021\r\n",
    "\r\n",
    "***\r\n",
    "\r\n",
    "##  Covid Data Manipulation and Visualizations\r\n",
    "***\r\n",
    "<br>\r\n",
    "\r\n",
    "\r\n",
    "# 1. Prepare\r\n",
    "\r\n",
    "We are using SQL server to prepare and process the data.\r\n",
    "\r\n",
    "#### 1.1 Downloading Dataset\r\n",
    "\r\n",
    "1. Firstly Downloading Data from [Our World In Data](https://ourworldindata.org/covid-deaths) in csv format.\r\n",
    "2. open these files to look if data is complete and consistant.\r\n",
    "\r\n",
    "\r\n",
    "#### 1.2 Importing Data\r\n",
    "\r\n",
    "1. Then importing the following files in Sql server\r\n",
    "    - Covid_Deaths.csv\r\n",
    "    - Covid_Vaccinations.csv\r\n",
    "\r\n",
    "Looking At Imported data\r\n",
    "\r\n",
    "***CODE*** \r\n",
    " (SELECT *\r\n",
    " FROM Covid_Database..Covid_Deaths\r\n",
    " WHERE continent is not null\r\n",
    " ORDER BY location,date\r\n",
    " )\r\n",
    "\r\n",
    "\r\n",
    "***"
   ],
   "metadata": {}
  }
 ],
 "metadata": {
  "orig_nbformat": 4,
  "language_info": {
   "name": "python",
   "version": "3.9.6"
  },
  "kernelspec": {
   "name": "python3",
   "display_name": "Python 3.9.6 64-bit"
  },
  "interpreter": {
   "hash": "5b3f1f13e90dc6664e7d61b0253895c1fa2887a60d55d2a4f9d6fe4302b77182"
  }
 },
 "nbformat": 4,
 "nbformat_minor": 2
}